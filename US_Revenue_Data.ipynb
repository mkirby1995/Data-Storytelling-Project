{
  "nbformat": 4,
  "nbformat_minor": 0,
  "metadata": {
    "colab": {
      "name": "US Revenue Data",
      "version": "0.3.2",
      "provenance": [],
      "include_colab_link": true
    },
    "kernelspec": {
      "name": "python3",
      "display_name": "Python 3"
    }
  },
  "cells": [
    {
      "cell_type": "markdown",
      "metadata": {
        "id": "view-in-github",
        "colab_type": "text"
      },
      "source": [
        "<a href=\"https://colab.research.google.com/github/mkirby1995/Data-Storytelling-Project/blob/master/US_Revenue_Data.ipynb\" target=\"_parent\"><img src=\"https://colab.research.google.com/assets/colab-badge.svg\" alt=\"Open In Colab\"/></a>"
      ]
    },
    {
      "metadata": {
        "id": "TQBmxbyWV2hP",
        "colab_type": "text"
      },
      "cell_type": "markdown",
      "source": [
        "# Congressional Spending: From Nixon to Trump"
      ]
    },
    {
      "metadata": {
        "id": "33f2ztUJ6fzx",
        "colab_type": "text"
      },
      "cell_type": "markdown",
      "source": [
        "**Pecan Method**\n",
        "\n",
        "- P-What is the problem you are solving?\n",
        "- C-What is the cause of the problem?\n",
        "- A-What is your answer to this problem?\n",
        "- N-What are the net benefits of solving this problem?"
      ]
    },
    {
      "metadata": {
        "id": "ahOYxV8v7PJ2",
        "colab_type": "text"
      },
      "cell_type": "markdown",
      "source": [
        "**Problem**"
      ]
    },
    {
      "metadata": {
        "id": "VmThKauQ7eBn",
        "colab_type": "text"
      },
      "cell_type": "markdown",
      "source": [
        "We are bombarded with partisian information everyday reguarding how we should be taxed and how that money should be spent. This bombardment can make viewing the facts and forming an independant opinion quite dificult for many people."
      ]
    },
    {
      "metadata": {
        "id": "1nAZg5328IDL",
        "colab_type": "text"
      },
      "cell_type": "markdown",
      "source": [
        "**Cause**"
      ]
    },
    {
      "metadata": {
        "id": "x5XjlmvW8iDo",
        "colab_type": "text"
      },
      "cell_type": "markdown",
      "source": [
        "It is difficult for people to devlop informed opinions for many reasons. Congressional revenue and income data is burried in a goverment website somewhere in the hellpit that is the internet. In addition to the obscurity of the base data there are clear and present political motives for news media and politicians to make their presentation of this data as polarizing as possible. "
      ]
    },
    {
      "metadata": {
        "id": "5CeNb3FV-whH",
        "colab_type": "text"
      },
      "cell_type": "markdown",
      "source": [
        "**Answer**"
      ]
    },
    {
      "metadata": {
        "id": "rWlb8H_W-yx1",
        "colab_type": "text"
      },
      "cell_type": "markdown",
      "source": [
        "A non-partisian presentation of the relavent data could help people develop a more informed opinion when It comes to exciting things like tax policy."
      ]
    },
    {
      "metadata": {
        "id": "BXIH3CpCIYdQ",
        "colab_type": "text"
      },
      "cell_type": "markdown",
      "source": [
        "**Net Benifits**"
      ]
    },
    {
      "metadata": {
        "id": "Vm3E10kJIaTP",
        "colab_type": "text"
      },
      "cell_type": "markdown",
      "source": [
        ""
      ]
    },
    {
      "metadata": {
        "id": "TIwZu9pwIe4Z",
        "colab_type": "text"
      },
      "cell_type": "markdown",
      "source": [
        "\n",
        "\n",
        "---\n",
        "\n"
      ]
    },
    {
      "metadata": {
        "id": "l75K_F6eIfo4",
        "colab_type": "text"
      },
      "cell_type": "markdown",
      "source": [
        "# First, lets get familiar with the domain were working with."
      ]
    },
    {
      "metadata": {
        "id": "JP5GrD2uIx4J",
        "colab_type": "text"
      },
      "cell_type": "markdown",
      "source": [
        "**Congressional Revenue**"
      ]
    },
    {
      "metadata": {
        "id": "jHv3Hbd2KldK",
        "colab_type": "text"
      },
      "cell_type": "markdown",
      "source": [
        "The United States Congres has the power to '\"lay and collect Taxes, Duties, Imposts and Excises, to pay the Debts and provide for the common Defence and general Welfare of the United States\" as enumerated in Article 1 Section 8 Clause 1 of the US Constitution."
      ]
    },
    {
      "metadata": {
        "id": "4Ox7liFjLkng",
        "colab_type": "text"
      },
      "cell_type": "markdown",
      "source": [
        "The 16th Ammendment in 1913 extended congressional power of taxation to include income taxes without apportionment among the several States"
      ]
    },
    {
      "metadata": {
        "id": "T0tPONIcLxSS",
        "colab_type": "text"
      },
      "cell_type": "markdown",
      "source": [
        "The Constitution also grants Congress the exclusive power to appropriate funds, and this power of the purse is one of Congress's primary checks on the executive branch."
      ]
    },
    {
      "metadata": {
        "id": "8DMJy1jHOod3",
        "colab_type": "text"
      },
      "cell_type": "markdown",
      "source": [
        "**Income Tax**"
      ]
    },
    {
      "metadata": {
        "id": "cUOU2I2ZOqAi",
        "colab_type": "text"
      },
      "cell_type": "markdown",
      "source": [
        "Not going to say much about income tax im sure were all very familiar with it. Capital gains tax is included in here"
      ]
    },
    {
      "metadata": {
        "id": "t-B_vMMOR8xU",
        "colab_type": "text"
      },
      "cell_type": "markdown",
      "source": [
        "\n",
        "\n",
        "---\n",
        "\n"
      ]
    },
    {
      "metadata": {
        "id": "1oYNV11CR2R5",
        "colab_type": "text"
      },
      "cell_type": "markdown",
      "source": [
        "**Mandatory Spending**"
      ]
    },
    {
      "metadata": {
        "id": "RDbEDIBrR8Pr",
        "colab_type": "text"
      },
      "cell_type": "markdown",
      "source": [
        "mandatory spending is government spending on certain programs that are mandated by law"
      ]
    },
    {
      "metadata": {
        "id": "Yhn7Un12ebIz",
        "colab_type": "text"
      },
      "cell_type": "markdown",
      "source": [
        "Congress legislates spending for mandatory programs outside of the annual appropriations bill process. Congress can only reduce the funding for programs by changing the authorization law itself. This requires a 60-vote majority in the Senate to pass"
      ]
    },
    {
      "metadata": {
        "id": "sAk-8cZge9hR",
        "colab_type": "text"
      },
      "cell_type": "markdown",
      "source": [
        "Entitlement programs such as Social Security and Medicare make up the bulk of mandatory spending. Together they account for nearly 50 percent of the federal budget. Other mandatory spending programs include Income Security Programs such as the Earned Income Tax Credit, Supplemental Nutrition Assistance Program, Supplemental Security Income, Temporary Assistance for Needy Families, and Unemployment Insurance. Federal Retirement programs for Federal and Civilian Military Retirees, Veterans programs, and various other programs that provide agricultural subsidies are also included in mandatory spending. Also included is smaller budgetary items, such as the salaries of Members of Congress and the President."
      ]
    },
    {
      "metadata": {
        "id": "RTH8ftdUfKpm",
        "colab_type": "text"
      },
      "cell_type": "markdown",
      "source": [
        "Prior to the Great Depression, nearly all federal expenditures were discretionary. Mandatory spending grew following the passage of the Social Security Act in 1935"
      ]
    },
    {
      "metadata": {
        "id": "_9BdeBBqfX4q",
        "colab_type": "text"
      },
      "cell_type": "markdown",
      "source": [
        "Congress amended the Social Security Act to create Medicare in 1965. Medicare is a government administered health insurance program for senior citizens."
      ]
    },
    {
      "metadata": {
        "id": "-rULXcVpf0v7",
        "colab_type": "text"
      },
      "cell_type": "markdown",
      "source": [
        "Persistent increases in health care spending have been the main drivers in increases in mandatory spending"
      ]
    },
    {
      "metadata": {
        "id": "Yn-eqrv5fx1Q",
        "colab_type": "text"
      },
      "cell_type": "markdown",
      "source": [
        "Health care cost per capita has grown much faster than the economy"
      ]
    },
    {
      "metadata": {
        "id": "8cE2eMG6gDdg",
        "colab_type": "text"
      },
      "cell_type": "markdown",
      "source": [
        "During economic downturns, government revenues fall and expenditures rise as more people become eligible for mandatory programs such as Unemployment Insurance and Income Security programs."
      ]
    },
    {
      "metadata": {
        "id": "qeLYV_sxgS9Z",
        "colab_type": "text"
      },
      "cell_type": "markdown",
      "source": [
        "During the recession in 2008 and 2009, mandatory spending increased by 31% due to federal financial interventions and the economic downturn. Much of the money went to the Troubled Asset Relief Program and aid to Government Sponsored Enterprises such as Fannie Mae and Freddie Mac."
      ]
    },
    {
      "metadata": {
        "id": "VCafxc2DgYTp",
        "colab_type": "text"
      },
      "cell_type": "markdown",
      "source": [
        "Social Security, Medicare, and Medicaid make up nearly 50 percent of all federal spending"
      ]
    },
    {
      "metadata": {
        "id": "uwXN9OqGgvbL",
        "colab_type": "text"
      },
      "cell_type": "markdown",
      "source": [
        "The number of beneficiaries of entitlement programs has grown as the average age of the population has risen. The Medicare Act of 1965 extended health benefits for most retirees and greatly expanded mandatory spending. As life expectancy has increased, the portion of the population over 85 has also increased, which has created a rise in Social Security and Medicare spending"
      ]
    },
    {
      "metadata": {
        "id": "c_3C3gnyR9vC",
        "colab_type": "text"
      },
      "cell_type": "markdown",
      "source": [
        "\n",
        "\n",
        "---\n",
        "\n"
      ]
    },
    {
      "metadata": {
        "id": "QWCwwUp_gy-j",
        "colab_type": "text"
      },
      "cell_type": "markdown",
      "source": [
        "**Discretionary Spending**"
      ]
    },
    {
      "metadata": {
        "id": "xSR9Riyfg2iH",
        "colab_type": "text"
      },
      "cell_type": "markdown",
      "source": [
        "discretionary spending is government spending implemented through an appropriations bill. This spending is an optional part of fiscal policy, in contrast to entitlement programs for which funding is mandatory and determined by the number of eligible recipients. Some examples of areas funded by discretionary spending are national defense, foreign aid, education and transportation."
      ]
    },
    {
      "metadata": {
        "id": "gFQuksEwhS1T",
        "colab_type": "text"
      },
      "cell_type": "markdown",
      "source": [
        "The rest of U.S. discretionary spending was allocated for education, training, employment, and social services as well as transportation, veterans' benefits and services, income security, health, administration of justice, international affairs, and other areas related to natural resources, the environment, science, space, and technology"
      ]
    },
    {
      "metadata": {
        "id": "TcJY1BIYg2wY",
        "colab_type": "text"
      },
      "cell_type": "markdown",
      "source": [
        "\n",
        "\n",
        "---\n",
        "\n"
      ]
    },
    {
      "metadata": {
        "id": "mh2ORq1TwDd9",
        "colab_type": "text"
      },
      "cell_type": "markdown",
      "source": [
        "# Importing Libraries and Datasets"
      ]
    },
    {
      "metadata": {
        "id": "Tr7XfnULL3ad",
        "colab_type": "code",
        "colab": {}
      },
      "cell_type": "code",
      "source": [
        "import pandas as pd\n",
        "import matplotlib.pyplot as plt\n",
        "import seaborn as sns\n",
        "import numpy as np"
      ],
      "execution_count": 0,
      "outputs": []
    },
    {
      "metadata": {
        "id": "MkgumWGaxwA5",
        "colab_type": "text"
      },
      "cell_type": "markdown",
      "source": [
        "\n",
        "\n",
        "---\n",
        "\n"
      ]
    },
    {
      "metadata": {
        "id": "_ji_iy3pxdRo",
        "colab_type": "text"
      },
      "cell_type": "markdown",
      "source": [
        "**Import income data**"
      ]
    },
    {
      "metadata": {
        "id": "0n7jiOKnmOLk",
        "colab_type": "text"
      },
      "cell_type": "markdown",
      "source": [
        "[link](https://www.cbo.gov/about/products/budget-economic-data#2)"
      ]
    },
    {
      "metadata": {
        "id": "rWPXtV640fTV",
        "colab_type": "code",
        "colab": {}
      },
      "cell_type": "code",
      "source": [
        "income_ = 'https://raw.githubusercontent.com/mkirby1995/Data-Storytelling-Project/master/Datasets/US_income.csv'\n",
        "\n",
        "income = pd.read_csv(income_)\n",
        "norm_income= pd.read_csv(income_)"
      ],
      "execution_count": 0,
      "outputs": []
    },
    {
      "metadata": {
        "id": "bqzRZaCZxw5F",
        "colab_type": "text"
      },
      "cell_type": "markdown",
      "source": [
        "\n",
        "\n",
        "---\n",
        "\n"
      ]
    },
    {
      "metadata": {
        "id": "QVyg_ofwxgDF",
        "colab_type": "text"
      },
      "cell_type": "markdown",
      "source": [
        "**Import population data**"
      ]
    },
    {
      "metadata": {
        "id": "xUYVubKTmE8W",
        "colab_type": "text"
      },
      "cell_type": "markdown",
      "source": [
        "[link](https://fusiontables.google.com/DataSource?dsrcid=225439#rows:id=1)"
      ]
    },
    {
      "metadata": {
        "id": "DFBC1CYn03yr",
        "colab_type": "code",
        "colab": {}
      },
      "cell_type": "code",
      "source": [
        "pop = 'https://raw.githubusercontent.com/mkirby1995/Data-Storytelling-Project/master/Datasets/US_population.csv'\n",
        "\n",
        "population = pd.read_csv(pop)"
      ],
      "execution_count": 0,
      "outputs": []
    },
    {
      "metadata": {
        "id": "aYP7_JPfxx4D",
        "colab_type": "text"
      },
      "cell_type": "markdown",
      "source": [
        "\n",
        "\n",
        "---\n",
        "\n"
      ]
    },
    {
      "metadata": {
        "id": "DYeNy4nZdBbe",
        "colab_type": "text"
      },
      "cell_type": "markdown",
      "source": [
        "**Import Inflation Data**"
      ]
    },
    {
      "metadata": {
        "id": "iM7NJ2rF31Zy",
        "colab_type": "text"
      },
      "cell_type": "markdown",
      "source": [
        "[link](https://www.thebalance.com/u-s-inflation-rate-history-by-year-and-forecast-3306093)"
      ]
    },
    {
      "metadata": {
        "id": "irUlqdfr1K5B",
        "colab_type": "code",
        "colab": {}
      },
      "cell_type": "code",
      "source": [
        "inflation = 'https://raw.githubusercontent.com/mkirby1995/Data-Storytelling-Project/master/Datasets/Inflation.csv'\n",
        "\n",
        "inflation = pd.read_csv(inflation)"
      ],
      "execution_count": 0,
      "outputs": []
    },
    {
      "metadata": {
        "id": "02GADaOo3kxP",
        "colab_type": "text"
      },
      "cell_type": "markdown",
      "source": [
        "\n",
        "\n",
        "---\n",
        "\n"
      ]
    },
    {
      "metadata": {
        "id": "pzK98gKa65DO",
        "colab_type": "text"
      },
      "cell_type": "markdown",
      "source": [
        "**Import spending data**"
      ]
    },
    {
      "metadata": {
        "id": "aWkrkhdF1m77",
        "colab_type": "code",
        "colab": {}
      },
      "cell_type": "code",
      "source": [
        "dis = 'https://raw.githubusercontent.com/mkirby1995/Data-Storytelling-Project/master/Datasets/Discretionary_Spending.csv'\n",
        "\n",
        "dis_spend = pd.read_csv(dis)"
      ],
      "execution_count": 0,
      "outputs": []
    },
    {
      "metadata": {
        "id": "NtH9rMJc1nVI",
        "colab_type": "code",
        "colab": {}
      },
      "cell_type": "code",
      "source": [
        "mand = 'https://raw.githubusercontent.com/mkirby1995/Data-Storytelling-Project/master/Datasets/Mandatory_spending.csv'\n",
        "\n",
        "mand_spend = pd.read_csv(mand)"
      ],
      "execution_count": 0,
      "outputs": []
    },
    {
      "metadata": {
        "id": "kPN1SGuM65YP",
        "colab_type": "text"
      },
      "cell_type": "markdown",
      "source": [
        "\n",
        "\n",
        "---\n",
        "\n"
      ]
    },
    {
      "metadata": {
        "id": "e-juUcHTdxM1",
        "colab_type": "text"
      },
      "cell_type": "markdown",
      "source": [
        "**Make a few normalized dataframes**"
      ]
    },
    {
      "metadata": {
        "id": "2rhfDf191La-",
        "colab_type": "code",
        "colab": {}
      },
      "cell_type": "code",
      "source": [
        "for col in norm_income.columns[1:8]:\n",
        "  norm_income[col] = norm_income[col] / norm_income['Total Revenue']"
      ],
      "execution_count": 0,
      "outputs": []
    },
    {
      "metadata": {
        "id": "KNzi7VGXYYT_",
        "colab_type": "code",
        "colab": {}
      },
      "cell_type": "code",
      "source": [
        "normalized_mand_spending = mand_spend[mand_spend.columns]"
      ],
      "execution_count": 0,
      "outputs": []
    },
    {
      "metadata": {
        "id": "voqTFZZ-Lvum",
        "colab_type": "code",
        "colab": {}
      },
      "cell_type": "code",
      "source": [
        "for col in mand_spend.columns[1:7]:\n",
        "  normalized_mand_spending[col] = mand_spend[col] / mand_spend['Total']"
      ],
      "execution_count": 0,
      "outputs": []
    },
    {
      "metadata": {
        "id": "3dLJdwiGZvk_",
        "colab_type": "code",
        "colab": {}
      },
      "cell_type": "code",
      "source": [
        "normalized_dis_spending = dis_spend[dis_spend.columns]"
      ],
      "execution_count": 0,
      "outputs": []
    },
    {
      "metadata": {
        "id": "fQvFa6LbMX-T",
        "colab_type": "code",
        "colab": {}
      },
      "cell_type": "code",
      "source": [
        "for col in dis_spend.columns[1:3]:\n",
        "  normalized_dis_spending[col] = dis_spend[col] / dis_spend['Total Discretionary']"
      ],
      "execution_count": 0,
      "outputs": []
    },
    {
      "metadata": {
        "id": "QyD6caMJdxiC",
        "colab_type": "text"
      },
      "cell_type": "markdown",
      "source": [
        "\n",
        "\n",
        "---\n",
        "\n"
      ]
    },
    {
      "metadata": {
        "id": "Qh5cB4K4yIGN",
        "colab_type": "text"
      },
      "cell_type": "markdown",
      "source": [
        "**Display the first five rows of each dataset**"
      ]
    },
    {
      "metadata": {
        "id": "f9p4taHhwiRi",
        "colab_type": "code",
        "outputId": "b3a4cd8d-994f-43f4-f995-f3ac106d9f6e",
        "colab": {
          "base_uri": "https://localhost:8080/",
          "height": 221
        }
      },
      "cell_type": "code",
      "source": [
        "income.head()"
      ],
      "execution_count": 12,
      "outputs": [
        {
          "output_type": "execute_result",
          "data": {
            "text/html": [
              "<div>\n",
              "<style scoped>\n",
              "    .dataframe tbody tr th:only-of-type {\n",
              "        vertical-align: middle;\n",
              "    }\n",
              "\n",
              "    .dataframe tbody tr th {\n",
              "        vertical-align: top;\n",
              "    }\n",
              "\n",
              "    .dataframe thead th {\n",
              "        text-align: right;\n",
              "    }\n",
              "</style>\n",
              "<table border=\"1\" class=\"dataframe\">\n",
              "  <thead>\n",
              "    <tr style=\"text-align: right;\">\n",
              "      <th></th>\n",
              "      <th>Year</th>\n",
              "      <th>Individual Income Taxes</th>\n",
              "      <th>Payroll Taxes</th>\n",
              "      <th>Corporate Income Taxes</th>\n",
              "      <th>Excise Taxes</th>\n",
              "      <th>Estate and Gift Taxes</th>\n",
              "      <th>Customs Duties</th>\n",
              "      <th>Miscellaneous Receipts</th>\n",
              "      <th>Total Revenue</th>\n",
              "    </tr>\n",
              "  </thead>\n",
              "  <tbody>\n",
              "    <tr>\n",
              "      <th>0</th>\n",
              "      <td>1969</td>\n",
              "      <td>87.2</td>\n",
              "      <td>39.0</td>\n",
              "      <td>36.7</td>\n",
              "      <td>15.2</td>\n",
              "      <td>3.5</td>\n",
              "      <td>2.3</td>\n",
              "      <td>2.9</td>\n",
              "      <td>186.9</td>\n",
              "    </tr>\n",
              "    <tr>\n",
              "      <th>1</th>\n",
              "      <td>1970</td>\n",
              "      <td>90.4</td>\n",
              "      <td>44.4</td>\n",
              "      <td>32.8</td>\n",
              "      <td>15.7</td>\n",
              "      <td>3.6</td>\n",
              "      <td>2.4</td>\n",
              "      <td>3.4</td>\n",
              "      <td>192.8</td>\n",
              "    </tr>\n",
              "    <tr>\n",
              "      <th>2</th>\n",
              "      <td>1971</td>\n",
              "      <td>86.2</td>\n",
              "      <td>47.3</td>\n",
              "      <td>26.8</td>\n",
              "      <td>16.6</td>\n",
              "      <td>3.7</td>\n",
              "      <td>2.6</td>\n",
              "      <td>3.9</td>\n",
              "      <td>187.1</td>\n",
              "    </tr>\n",
              "    <tr>\n",
              "      <th>3</th>\n",
              "      <td>1972</td>\n",
              "      <td>94.7</td>\n",
              "      <td>52.6</td>\n",
              "      <td>32.2</td>\n",
              "      <td>15.5</td>\n",
              "      <td>5.4</td>\n",
              "      <td>3.3</td>\n",
              "      <td>3.6</td>\n",
              "      <td>207.3</td>\n",
              "    </tr>\n",
              "    <tr>\n",
              "      <th>4</th>\n",
              "      <td>1973</td>\n",
              "      <td>103.2</td>\n",
              "      <td>63.1</td>\n",
              "      <td>36.2</td>\n",
              "      <td>16.3</td>\n",
              "      <td>4.9</td>\n",
              "      <td>3.2</td>\n",
              "      <td>3.9</td>\n",
              "      <td>230.8</td>\n",
              "    </tr>\n",
              "  </tbody>\n",
              "</table>\n",
              "</div>"
            ],
            "text/plain": [
              "   Year  Individual Income Taxes  Payroll Taxes  Corporate Income Taxes  \\\n",
              "0  1969                     87.2           39.0                    36.7   \n",
              "1  1970                     90.4           44.4                    32.8   \n",
              "2  1971                     86.2           47.3                    26.8   \n",
              "3  1972                     94.7           52.6                    32.2   \n",
              "4  1973                    103.2           63.1                    36.2   \n",
              "\n",
              "   Excise Taxes  Estate and Gift Taxes  Customs Duties  \\\n",
              "0          15.2                    3.5             2.3   \n",
              "1          15.7                    3.6             2.4   \n",
              "2          16.6                    3.7             2.6   \n",
              "3          15.5                    5.4             3.3   \n",
              "4          16.3                    4.9             3.2   \n",
              "\n",
              "   Miscellaneous Receipts  Total Revenue  \n",
              "0                     2.9          186.9  \n",
              "1                     3.4          192.8  \n",
              "2                     3.9          187.1  \n",
              "3                     3.6          207.3  \n",
              "4                     3.9          230.8  "
            ]
          },
          "metadata": {
            "tags": []
          },
          "execution_count": 12
        }
      ]
    },
    {
      "metadata": {
        "id": "94aOOwltweqf",
        "colab_type": "code",
        "outputId": "0b92d0ef-2abc-40e5-d82e-725adf3b14e0",
        "colab": {
          "base_uri": "https://localhost:8080/",
          "height": 221
        }
      },
      "cell_type": "code",
      "source": [
        "population.head()"
      ],
      "execution_count": 13,
      "outputs": [
        {
          "output_type": "execute_result",
          "data": {
            "text/html": [
              "<div>\n",
              "<style scoped>\n",
              "    .dataframe tbody tr th:only-of-type {\n",
              "        vertical-align: middle;\n",
              "    }\n",
              "\n",
              "    .dataframe tbody tr th {\n",
              "        vertical-align: top;\n",
              "    }\n",
              "\n",
              "    .dataframe thead th {\n",
              "        text-align: right;\n",
              "    }\n",
              "</style>\n",
              "<table border=\"1\" class=\"dataframe\">\n",
              "  <thead>\n",
              "    <tr style=\"text-align: right;\">\n",
              "      <th></th>\n",
              "      <th>Year</th>\n",
              "      <th>Average population</th>\n",
              "      <th>Live births</th>\n",
              "      <th>Deaths</th>\n",
              "      <th>Natural change</th>\n",
              "      <th>Crude birth rate (per 1,000)</th>\n",
              "      <th>Crude death rate (per 1,000)</th>\n",
              "      <th>Natural change (per 1,000)</th>\n",
              "      <th>Total fertility rate</th>\n",
              "    </tr>\n",
              "  </thead>\n",
              "  <tbody>\n",
              "    <tr>\n",
              "      <th>0</th>\n",
              "      <td>1969</td>\n",
              "      <td>201385000.0</td>\n",
              "      <td>3600206.0</td>\n",
              "      <td>1921990.0</td>\n",
              "      <td>1678216.0</td>\n",
              "      <td>17.9</td>\n",
              "      <td>9.5</td>\n",
              "      <td>8.4</td>\n",
              "      <td>2.47</td>\n",
              "    </tr>\n",
              "    <tr>\n",
              "      <th>1</th>\n",
              "      <td>1970</td>\n",
              "      <td>203984000.0</td>\n",
              "      <td>3731386.0</td>\n",
              "      <td>1921031.0</td>\n",
              "      <td>1810355.0</td>\n",
              "      <td>18.4</td>\n",
              "      <td>9.4</td>\n",
              "      <td>9.0</td>\n",
              "      <td>2.48</td>\n",
              "    </tr>\n",
              "    <tr>\n",
              "      <th>2</th>\n",
              "      <td>1971</td>\n",
              "      <td>206827000.0</td>\n",
              "      <td>3555970.0</td>\n",
              "      <td>1927542.0</td>\n",
              "      <td>1628428.0</td>\n",
              "      <td>17.2</td>\n",
              "      <td>9.3</td>\n",
              "      <td>7.9</td>\n",
              "      <td>2.27</td>\n",
              "    </tr>\n",
              "    <tr>\n",
              "      <th>3</th>\n",
              "      <td>1972</td>\n",
              "      <td>209284000.0</td>\n",
              "      <td>3258411.0</td>\n",
              "      <td>1963944.0</td>\n",
              "      <td>1294467.0</td>\n",
              "      <td>15.6</td>\n",
              "      <td>9.4</td>\n",
              "      <td>6.2</td>\n",
              "      <td>2.01</td>\n",
              "    </tr>\n",
              "    <tr>\n",
              "      <th>4</th>\n",
              "      <td>1973</td>\n",
              "      <td>211357000.0</td>\n",
              "      <td>3136965.0</td>\n",
              "      <td>1973003.0</td>\n",
              "      <td>1163962.0</td>\n",
              "      <td>14.8</td>\n",
              "      <td>9.5</td>\n",
              "      <td>5.3</td>\n",
              "      <td>1.88</td>\n",
              "    </tr>\n",
              "  </tbody>\n",
              "</table>\n",
              "</div>"
            ],
            "text/plain": [
              "   Year  Average population  Live births     Deaths  Natural change  \\\n",
              "0  1969         201385000.0    3600206.0  1921990.0       1678216.0   \n",
              "1  1970         203984000.0    3731386.0  1921031.0       1810355.0   \n",
              "2  1971         206827000.0    3555970.0  1927542.0       1628428.0   \n",
              "3  1972         209284000.0    3258411.0  1963944.0       1294467.0   \n",
              "4  1973         211357000.0    3136965.0  1973003.0       1163962.0   \n",
              "\n",
              "   Crude birth rate (per 1,000)  Crude death rate (per 1,000)  \\\n",
              "0                          17.9                           9.5   \n",
              "1                          18.4                           9.4   \n",
              "2                          17.2                           9.3   \n",
              "3                          15.6                           9.4   \n",
              "4                          14.8                           9.5   \n",
              "\n",
              "   Natural change (per 1,000)  Total fertility rate  \n",
              "0                         8.4                  2.47  \n",
              "1                         9.0                  2.48  \n",
              "2                         7.9                  2.27  \n",
              "3                         6.2                  2.01  \n",
              "4                         5.3                  1.88  "
            ]
          },
          "metadata": {
            "tags": []
          },
          "execution_count": 13
        }
      ]
    },
    {
      "metadata": {
        "id": "NEPsvCO92Tkg",
        "colab_type": "code",
        "outputId": "8c0c5939-a772-4a40-a6fa-f0f285eceb95",
        "colab": {
          "base_uri": "https://localhost:8080/",
          "height": 204
        }
      },
      "cell_type": "code",
      "source": [
        "inflation.head()"
      ],
      "execution_count": 14,
      "outputs": [
        {
          "output_type": "execute_result",
          "data": {
            "text/html": [
              "<div>\n",
              "<style scoped>\n",
              "    .dataframe tbody tr th:only-of-type {\n",
              "        vertical-align: middle;\n",
              "    }\n",
              "\n",
              "    .dataframe tbody tr th {\n",
              "        vertical-align: top;\n",
              "    }\n",
              "\n",
              "    .dataframe thead th {\n",
              "        text-align: right;\n",
              "    }\n",
              "</style>\n",
              "<table border=\"1\" class=\"dataframe\">\n",
              "  <thead>\n",
              "    <tr style=\"text-align: right;\">\n",
              "      <th></th>\n",
              "      <th>Year</th>\n",
              "      <th>Year over year inflation</th>\n",
              "      <th>Dollar value vs 1969 dollars</th>\n",
              "      <th>2018 Dollars</th>\n",
              "    </tr>\n",
              "  </thead>\n",
              "  <tbody>\n",
              "    <tr>\n",
              "      <th>0</th>\n",
              "      <td>1969</td>\n",
              "      <td>0.06</td>\n",
              "      <td>1.00</td>\n",
              "      <td>0.13</td>\n",
              "    </tr>\n",
              "    <tr>\n",
              "      <th>1</th>\n",
              "      <td>1970</td>\n",
              "      <td>0.06</td>\n",
              "      <td>0.94</td>\n",
              "      <td>0.14</td>\n",
              "    </tr>\n",
              "    <tr>\n",
              "      <th>2</th>\n",
              "      <td>1971</td>\n",
              "      <td>0.03</td>\n",
              "      <td>0.91</td>\n",
              "      <td>0.14</td>\n",
              "    </tr>\n",
              "    <tr>\n",
              "      <th>3</th>\n",
              "      <td>1972</td>\n",
              "      <td>0.03</td>\n",
              "      <td>0.88</td>\n",
              "      <td>0.14</td>\n",
              "    </tr>\n",
              "    <tr>\n",
              "      <th>4</th>\n",
              "      <td>1973</td>\n",
              "      <td>0.09</td>\n",
              "      <td>0.81</td>\n",
              "      <td>0.16</td>\n",
              "    </tr>\n",
              "  </tbody>\n",
              "</table>\n",
              "</div>"
            ],
            "text/plain": [
              "   Year  Year over year inflation  Dollar value vs 1969 dollars  2018 Dollars\n",
              "0  1969                      0.06                          1.00          0.13\n",
              "1  1970                      0.06                          0.94          0.14\n",
              "2  1971                      0.03                          0.91          0.14\n",
              "3  1972                      0.03                          0.88          0.14\n",
              "4  1973                      0.09                          0.81          0.16"
            ]
          },
          "metadata": {
            "tags": []
          },
          "execution_count": 14
        }
      ]
    },
    {
      "metadata": {
        "id": "k0k8QA9_yGq6",
        "colab_type": "code",
        "outputId": "50bf099e-8d20-4850-9e0c-362f81b2eb11",
        "colab": {
          "base_uri": "https://localhost:8080/",
          "height": 221
        }
      },
      "cell_type": "code",
      "source": [
        "norm_income.head()"
      ],
      "execution_count": 15,
      "outputs": [
        {
          "output_type": "execute_result",
          "data": {
            "text/html": [
              "<div>\n",
              "<style scoped>\n",
              "    .dataframe tbody tr th:only-of-type {\n",
              "        vertical-align: middle;\n",
              "    }\n",
              "\n",
              "    .dataframe tbody tr th {\n",
              "        vertical-align: top;\n",
              "    }\n",
              "\n",
              "    .dataframe thead th {\n",
              "        text-align: right;\n",
              "    }\n",
              "</style>\n",
              "<table border=\"1\" class=\"dataframe\">\n",
              "  <thead>\n",
              "    <tr style=\"text-align: right;\">\n",
              "      <th></th>\n",
              "      <th>Year</th>\n",
              "      <th>Individual Income Taxes</th>\n",
              "      <th>Payroll Taxes</th>\n",
              "      <th>Corporate Income Taxes</th>\n",
              "      <th>Excise Taxes</th>\n",
              "      <th>Estate and Gift Taxes</th>\n",
              "      <th>Customs Duties</th>\n",
              "      <th>Miscellaneous Receipts</th>\n",
              "      <th>Total Revenue</th>\n",
              "    </tr>\n",
              "  </thead>\n",
              "  <tbody>\n",
              "    <tr>\n",
              "      <th>0</th>\n",
              "      <td>1969</td>\n",
              "      <td>0.466560</td>\n",
              "      <td>0.208668</td>\n",
              "      <td>0.196362</td>\n",
              "      <td>0.081327</td>\n",
              "      <td>0.018727</td>\n",
              "      <td>0.012306</td>\n",
              "      <td>0.015516</td>\n",
              "      <td>186.9</td>\n",
              "    </tr>\n",
              "    <tr>\n",
              "      <th>1</th>\n",
              "      <td>1970</td>\n",
              "      <td>0.468880</td>\n",
              "      <td>0.230290</td>\n",
              "      <td>0.170124</td>\n",
              "      <td>0.081432</td>\n",
              "      <td>0.018672</td>\n",
              "      <td>0.012448</td>\n",
              "      <td>0.017635</td>\n",
              "      <td>192.8</td>\n",
              "    </tr>\n",
              "    <tr>\n",
              "      <th>2</th>\n",
              "      <td>1971</td>\n",
              "      <td>0.460716</td>\n",
              "      <td>0.252806</td>\n",
              "      <td>0.143239</td>\n",
              "      <td>0.088723</td>\n",
              "      <td>0.019776</td>\n",
              "      <td>0.013896</td>\n",
              "      <td>0.020844</td>\n",
              "      <td>187.1</td>\n",
              "    </tr>\n",
              "    <tr>\n",
              "      <th>3</th>\n",
              "      <td>1972</td>\n",
              "      <td>0.456826</td>\n",
              "      <td>0.253739</td>\n",
              "      <td>0.155330</td>\n",
              "      <td>0.074771</td>\n",
              "      <td>0.026049</td>\n",
              "      <td>0.015919</td>\n",
              "      <td>0.017366</td>\n",
              "      <td>207.3</td>\n",
              "    </tr>\n",
              "    <tr>\n",
              "      <th>4</th>\n",
              "      <td>1973</td>\n",
              "      <td>0.447140</td>\n",
              "      <td>0.273397</td>\n",
              "      <td>0.156846</td>\n",
              "      <td>0.070624</td>\n",
              "      <td>0.021231</td>\n",
              "      <td>0.013865</td>\n",
              "      <td>0.016898</td>\n",
              "      <td>230.8</td>\n",
              "    </tr>\n",
              "  </tbody>\n",
              "</table>\n",
              "</div>"
            ],
            "text/plain": [
              "   Year  Individual Income Taxes  Payroll Taxes  Corporate Income Taxes  \\\n",
              "0  1969                 0.466560       0.208668                0.196362   \n",
              "1  1970                 0.468880       0.230290                0.170124   \n",
              "2  1971                 0.460716       0.252806                0.143239   \n",
              "3  1972                 0.456826       0.253739                0.155330   \n",
              "4  1973                 0.447140       0.273397                0.156846   \n",
              "\n",
              "   Excise Taxes  Estate and Gift Taxes  Customs Duties  \\\n",
              "0      0.081327               0.018727        0.012306   \n",
              "1      0.081432               0.018672        0.012448   \n",
              "2      0.088723               0.019776        0.013896   \n",
              "3      0.074771               0.026049        0.015919   \n",
              "4      0.070624               0.021231        0.013865   \n",
              "\n",
              "   Miscellaneous Receipts  Total Revenue  \n",
              "0                0.015516          186.9  \n",
              "1                0.017635          192.8  \n",
              "2                0.020844          187.1  \n",
              "3                0.017366          207.3  \n",
              "4                0.016898          230.8  "
            ]
          },
          "metadata": {
            "tags": []
          },
          "execution_count": 15
        }
      ]
    },
    {
      "metadata": {
        "id": "59MYWZsDX7AN",
        "colab_type": "code",
        "outputId": "dc1b67e1-1e69-4e61-a693-7ecbf1e907c1",
        "colab": {
          "base_uri": "https://localhost:8080/",
          "height": 204
        }
      },
      "cell_type": "code",
      "source": [
        "dis_spend.head()"
      ],
      "execution_count": 16,
      "outputs": [
        {
          "output_type": "execute_result",
          "data": {
            "text/html": [
              "<div>\n",
              "<style scoped>\n",
              "    .dataframe tbody tr th:only-of-type {\n",
              "        vertical-align: middle;\n",
              "    }\n",
              "\n",
              "    .dataframe tbody tr th {\n",
              "        vertical-align: top;\n",
              "    }\n",
              "\n",
              "    .dataframe thead th {\n",
              "        text-align: right;\n",
              "    }\n",
              "</style>\n",
              "<table border=\"1\" class=\"dataframe\">\n",
              "  <thead>\n",
              "    <tr style=\"text-align: right;\">\n",
              "      <th></th>\n",
              "      <th>Year</th>\n",
              "      <th>Defense</th>\n",
              "      <th>Nondefense</th>\n",
              "      <th>Total Discretionary</th>\n",
              "    </tr>\n",
              "  </thead>\n",
              "  <tbody>\n",
              "    <tr>\n",
              "      <th>0</th>\n",
              "      <td>1969</td>\n",
              "      <td>82.7</td>\n",
              "      <td>34.6</td>\n",
              "      <td>117.3</td>\n",
              "    </tr>\n",
              "    <tr>\n",
              "      <th>1</th>\n",
              "      <td>1970</td>\n",
              "      <td>81.9</td>\n",
              "      <td>38.3</td>\n",
              "      <td>120.3</td>\n",
              "    </tr>\n",
              "    <tr>\n",
              "      <th>2</th>\n",
              "      <td>1971</td>\n",
              "      <td>79.0</td>\n",
              "      <td>43.5</td>\n",
              "      <td>122.5</td>\n",
              "    </tr>\n",
              "    <tr>\n",
              "      <th>3</th>\n",
              "      <td>1972</td>\n",
              "      <td>79.3</td>\n",
              "      <td>49.2</td>\n",
              "      <td>128.5</td>\n",
              "    </tr>\n",
              "    <tr>\n",
              "      <th>4</th>\n",
              "      <td>1973</td>\n",
              "      <td>77.1</td>\n",
              "      <td>53.3</td>\n",
              "      <td>130.4</td>\n",
              "    </tr>\n",
              "  </tbody>\n",
              "</table>\n",
              "</div>"
            ],
            "text/plain": [
              "   Year  Defense  Nondefense  Total Discretionary\n",
              "0  1969     82.7        34.6                117.3\n",
              "1  1970     81.9        38.3                120.3\n",
              "2  1971     79.0        43.5                122.5\n",
              "3  1972     79.3        49.2                128.5\n",
              "4  1973     77.1        53.3                130.4"
            ]
          },
          "metadata": {
            "tags": []
          },
          "execution_count": 16
        }
      ]
    },
    {
      "metadata": {
        "id": "8XYL92sPX7Dm",
        "colab_type": "code",
        "outputId": "7263540c-1c85-49fc-af00-cb5f27cc5039",
        "colab": {
          "base_uri": "https://localhost:8080/",
          "height": 221
        }
      },
      "cell_type": "code",
      "source": [
        "mand_spend.head()"
      ],
      "execution_count": 17,
      "outputs": [
        {
          "output_type": "execute_result",
          "data": {
            "text/html": [
              "<div>\n",
              "<style scoped>\n",
              "    .dataframe tbody tr th:only-of-type {\n",
              "        vertical-align: middle;\n",
              "    }\n",
              "\n",
              "    .dataframe tbody tr th {\n",
              "        vertical-align: top;\n",
              "    }\n",
              "\n",
              "    .dataframe thead th {\n",
              "        text-align: right;\n",
              "    }\n",
              "</style>\n",
              "<table border=\"1\" class=\"dataframe\">\n",
              "  <thead>\n",
              "    <tr style=\"text-align: right;\">\n",
              "      <th></th>\n",
              "      <th>Year</th>\n",
              "      <th>Social Security</th>\n",
              "      <th>Medicare and Medicaid</th>\n",
              "      <th>Income Security</th>\n",
              "      <th>Federal Civilian and Military Retirement</th>\n",
              "      <th>Veterans' Programs</th>\n",
              "      <th>Other Programs Total</th>\n",
              "      <th>Total</th>\n",
              "    </tr>\n",
              "  </thead>\n",
              "  <tbody>\n",
              "    <tr>\n",
              "      <th>0</th>\n",
              "      <td>1969</td>\n",
              "      <td>26.70</td>\n",
              "      <td>8.59</td>\n",
              "      <td>6.50</td>\n",
              "      <td>6.40</td>\n",
              "      <td>6.17</td>\n",
              "      <td>10.27</td>\n",
              "      <td>64.63</td>\n",
              "    </tr>\n",
              "    <tr>\n",
              "      <th>1</th>\n",
              "      <td>1970</td>\n",
              "      <td>29.65</td>\n",
              "      <td>9.51</td>\n",
              "      <td>8.18</td>\n",
              "      <td>7.23</td>\n",
              "      <td>7.02</td>\n",
              "      <td>10.92</td>\n",
              "      <td>72.51</td>\n",
              "    </tr>\n",
              "    <tr>\n",
              "      <th>2</th>\n",
              "      <td>1971</td>\n",
              "      <td>35.13</td>\n",
              "      <td>10.84</td>\n",
              "      <td>13.41</td>\n",
              "      <td>8.93</td>\n",
              "      <td>8.10</td>\n",
              "      <td>10.46</td>\n",
              "      <td>86.87</td>\n",
              "    </tr>\n",
              "    <tr>\n",
              "      <th>3</th>\n",
              "      <td>1972</td>\n",
              "      <td>39.36</td>\n",
              "      <td>12.96</td>\n",
              "      <td>16.42</td>\n",
              "      <td>10.39</td>\n",
              "      <td>8.78</td>\n",
              "      <td>12.86</td>\n",
              "      <td>100.77</td>\n",
              "    </tr>\n",
              "    <tr>\n",
              "      <th>4</th>\n",
              "      <td>1973</td>\n",
              "      <td>48.18</td>\n",
              "      <td>13.64</td>\n",
              "      <td>14.45</td>\n",
              "      <td>12.49</td>\n",
              "      <td>9.84</td>\n",
              "      <td>17.39</td>\n",
              "      <td>115.99</td>\n",
              "    </tr>\n",
              "  </tbody>\n",
              "</table>\n",
              "</div>"
            ],
            "text/plain": [
              "   Year  Social Security  Medicare and Medicaid  Income Security  \\\n",
              "0  1969            26.70                   8.59             6.50   \n",
              "1  1970            29.65                   9.51             8.18   \n",
              "2  1971            35.13                  10.84            13.41   \n",
              "3  1972            39.36                  12.96            16.42   \n",
              "4  1973            48.18                  13.64            14.45   \n",
              "\n",
              "   Federal Civilian and Military Retirement  Veterans' Programs  \\\n",
              "0                                      6.40                6.17   \n",
              "1                                      7.23                7.02   \n",
              "2                                      8.93                8.10   \n",
              "3                                     10.39                8.78   \n",
              "4                                     12.49                9.84   \n",
              "\n",
              "   Other Programs Total   Total  \n",
              "0                 10.27   64.63  \n",
              "1                 10.92   72.51  \n",
              "2                 10.46   86.87  \n",
              "3                 12.86  100.77  \n",
              "4                 17.39  115.99  "
            ]
          },
          "metadata": {
            "tags": []
          },
          "execution_count": 17
        }
      ]
    },
    {
      "metadata": {
        "id": "K1YFKrTHYnLc",
        "colab_type": "code",
        "outputId": "92760a7a-b7c0-425f-e52e-42f756a88c6c",
        "colab": {
          "base_uri": "https://localhost:8080/",
          "height": 221
        }
      },
      "cell_type": "code",
      "source": [
        "normalized_mand_spending.head()"
      ],
      "execution_count": 18,
      "outputs": [
        {
          "output_type": "execute_result",
          "data": {
            "text/html": [
              "<div>\n",
              "<style scoped>\n",
              "    .dataframe tbody tr th:only-of-type {\n",
              "        vertical-align: middle;\n",
              "    }\n",
              "\n",
              "    .dataframe tbody tr th {\n",
              "        vertical-align: top;\n",
              "    }\n",
              "\n",
              "    .dataframe thead th {\n",
              "        text-align: right;\n",
              "    }\n",
              "</style>\n",
              "<table border=\"1\" class=\"dataframe\">\n",
              "  <thead>\n",
              "    <tr style=\"text-align: right;\">\n",
              "      <th></th>\n",
              "      <th>Year</th>\n",
              "      <th>Social Security</th>\n",
              "      <th>Medicare and Medicaid</th>\n",
              "      <th>Income Security</th>\n",
              "      <th>Federal Civilian and Military Retirement</th>\n",
              "      <th>Veterans' Programs</th>\n",
              "      <th>Other Programs Total</th>\n",
              "      <th>Total</th>\n",
              "    </tr>\n",
              "  </thead>\n",
              "  <tbody>\n",
              "    <tr>\n",
              "      <th>0</th>\n",
              "      <td>1969</td>\n",
              "      <td>0.413121</td>\n",
              "      <td>0.132910</td>\n",
              "      <td>0.100572</td>\n",
              "      <td>0.099025</td>\n",
              "      <td>0.095467</td>\n",
              "      <td>0.158905</td>\n",
              "      <td>64.63</td>\n",
              "    </tr>\n",
              "    <tr>\n",
              "      <th>1</th>\n",
              "      <td>1970</td>\n",
              "      <td>0.408909</td>\n",
              "      <td>0.131154</td>\n",
              "      <td>0.112812</td>\n",
              "      <td>0.099710</td>\n",
              "      <td>0.096814</td>\n",
              "      <td>0.150600</td>\n",
              "      <td>72.51</td>\n",
              "    </tr>\n",
              "    <tr>\n",
              "      <th>2</th>\n",
              "      <td>1971</td>\n",
              "      <td>0.404397</td>\n",
              "      <td>0.124784</td>\n",
              "      <td>0.154369</td>\n",
              "      <td>0.102797</td>\n",
              "      <td>0.093243</td>\n",
              "      <td>0.120410</td>\n",
              "      <td>86.87</td>\n",
              "    </tr>\n",
              "    <tr>\n",
              "      <th>3</th>\n",
              "      <td>1972</td>\n",
              "      <td>0.390592</td>\n",
              "      <td>0.128610</td>\n",
              "      <td>0.162945</td>\n",
              "      <td>0.103106</td>\n",
              "      <td>0.087129</td>\n",
              "      <td>0.127617</td>\n",
              "      <td>100.77</td>\n",
              "    </tr>\n",
              "    <tr>\n",
              "      <th>4</th>\n",
              "      <td>1973</td>\n",
              "      <td>0.415381</td>\n",
              "      <td>0.117596</td>\n",
              "      <td>0.124580</td>\n",
              "      <td>0.107682</td>\n",
              "      <td>0.084835</td>\n",
              "      <td>0.149927</td>\n",
              "      <td>115.99</td>\n",
              "    </tr>\n",
              "  </tbody>\n",
              "</table>\n",
              "</div>"
            ],
            "text/plain": [
              "   Year  Social Security  Medicare and Medicaid  Income Security  \\\n",
              "0  1969         0.413121               0.132910         0.100572   \n",
              "1  1970         0.408909               0.131154         0.112812   \n",
              "2  1971         0.404397               0.124784         0.154369   \n",
              "3  1972         0.390592               0.128610         0.162945   \n",
              "4  1973         0.415381               0.117596         0.124580   \n",
              "\n",
              "   Federal Civilian and Military Retirement  Veterans' Programs  \\\n",
              "0                                  0.099025            0.095467   \n",
              "1                                  0.099710            0.096814   \n",
              "2                                  0.102797            0.093243   \n",
              "3                                  0.103106            0.087129   \n",
              "4                                  0.107682            0.084835   \n",
              "\n",
              "   Other Programs Total   Total  \n",
              "0              0.158905   64.63  \n",
              "1              0.150600   72.51  \n",
              "2              0.120410   86.87  \n",
              "3              0.127617  100.77  \n",
              "4              0.149927  115.99  "
            ]
          },
          "metadata": {
            "tags": []
          },
          "execution_count": 18
        }
      ]
    },
    {
      "metadata": {
        "id": "KPI2XHMcaGTq",
        "colab_type": "code",
        "outputId": "1e871bf4-9e8b-4846-c1fd-a13c9f8acabf",
        "colab": {
          "base_uri": "https://localhost:8080/",
          "height": 204
        }
      },
      "cell_type": "code",
      "source": [
        "normalized_dis_spending.head()"
      ],
      "execution_count": 19,
      "outputs": [
        {
          "output_type": "execute_result",
          "data": {
            "text/html": [
              "<div>\n",
              "<style scoped>\n",
              "    .dataframe tbody tr th:only-of-type {\n",
              "        vertical-align: middle;\n",
              "    }\n",
              "\n",
              "    .dataframe tbody tr th {\n",
              "        vertical-align: top;\n",
              "    }\n",
              "\n",
              "    .dataframe thead th {\n",
              "        text-align: right;\n",
              "    }\n",
              "</style>\n",
              "<table border=\"1\" class=\"dataframe\">\n",
              "  <thead>\n",
              "    <tr style=\"text-align: right;\">\n",
              "      <th></th>\n",
              "      <th>Year</th>\n",
              "      <th>Defense</th>\n",
              "      <th>Nondefense</th>\n",
              "      <th>Total Discretionary</th>\n",
              "    </tr>\n",
              "  </thead>\n",
              "  <tbody>\n",
              "    <tr>\n",
              "      <th>0</th>\n",
              "      <td>1969</td>\n",
              "      <td>0.705030</td>\n",
              "      <td>0.294970</td>\n",
              "      <td>117.3</td>\n",
              "    </tr>\n",
              "    <tr>\n",
              "      <th>1</th>\n",
              "      <td>1970</td>\n",
              "      <td>0.680798</td>\n",
              "      <td>0.318371</td>\n",
              "      <td>120.3</td>\n",
              "    </tr>\n",
              "    <tr>\n",
              "      <th>2</th>\n",
              "      <td>1971</td>\n",
              "      <td>0.644898</td>\n",
              "      <td>0.355102</td>\n",
              "      <td>122.5</td>\n",
              "    </tr>\n",
              "    <tr>\n",
              "      <th>3</th>\n",
              "      <td>1972</td>\n",
              "      <td>0.617121</td>\n",
              "      <td>0.382879</td>\n",
              "      <td>128.5</td>\n",
              "    </tr>\n",
              "    <tr>\n",
              "      <th>4</th>\n",
              "      <td>1973</td>\n",
              "      <td>0.591258</td>\n",
              "      <td>0.408742</td>\n",
              "      <td>130.4</td>\n",
              "    </tr>\n",
              "  </tbody>\n",
              "</table>\n",
              "</div>"
            ],
            "text/plain": [
              "   Year   Defense  Nondefense  Total Discretionary\n",
              "0  1969  0.705030    0.294970                117.3\n",
              "1  1970  0.680798    0.318371                120.3\n",
              "2  1971  0.644898    0.355102                122.5\n",
              "3  1972  0.617121    0.382879                128.5\n",
              "4  1973  0.591258    0.408742                130.4"
            ]
          },
          "metadata": {
            "tags": []
          },
          "execution_count": 19
        }
      ]
    },
    {
      "metadata": {
        "id": "ooVCEg43xu-f",
        "colab_type": "text"
      },
      "cell_type": "markdown",
      "source": [
        "\n",
        "\n",
        "---\n",
        "\n"
      ]
    },
    {
      "metadata": {
        "id": "5-wtghuDwTaJ",
        "colab_type": "text"
      },
      "cell_type": "markdown",
      "source": [
        "# Data Cleaning"
      ]
    },
    {
      "metadata": {
        "id": "TzEsfY7twtiV",
        "colab_type": "text"
      },
      "cell_type": "markdown",
      "source": [
        "# Exploratory Analysis"
      ]
    },
    {
      "metadata": {
        "id": "cqEa4w5kc-Lp",
        "colab_type": "text"
      },
      "cell_type": "markdown",
      "source": [
        "**Plot**"
      ]
    },
    {
      "metadata": {
        "id": "zxzFNjDJYTlK",
        "colab_type": "code",
        "colab": {}
      },
      "cell_type": "code",
      "source": [
        "from pylab import rcParams\n",
        "rcParams['figure.figsize'] = 19, 10"
      ],
      "execution_count": 0,
      "outputs": []
    },
    {
      "metadata": {
        "id": "E2-sUrDndAuJ",
        "colab_type": "text"
      },
      "cell_type": "markdown",
      "source": [
        "\n",
        "\n",
        "---\n",
        "\n"
      ]
    },
    {
      "metadata": {
        "id": "4ElJOvIZ3mL7",
        "colab_type": "text"
      },
      "cell_type": "markdown",
      "source": [
        "**Plot Congressional Revenue**"
      ]
    },
    {
      "metadata": {
        "id": "tKmbn3Br2b_n",
        "colab_type": "code",
        "outputId": "b2f023ed-485c-4fec-8c81-50a7234cbf81",
        "colab": {
          "base_uri": "https://localhost:8080/",
          "height": 622
        }
      },
      "cell_type": "code",
      "source": [
        "N = 49\n",
        "Individual = (income['Individual Income Taxes'] * inflation['Dollar value vs 1969 dollars'])\n",
        "Payroll = (income['Payroll Taxes'] * inflation['Dollar value vs 1969 dollars'])\n",
        "Corperate = (income[\"Corporate Income Taxes\"] * inflation['Dollar value vs 1969 dollars'])\n",
        "Excise = (income[\"Excise Taxes\"] * inflation['Dollar value vs 1969 dollars'])\n",
        "Estate = (income[\"Estate and Gift Taxes\"] * inflation['Dollar value vs 1969 dollars'])\n",
        "Customs = (income[\"Customs Duties\"] * inflation['Dollar value vs 1969 dollars'])\n",
        "Misc = (income[\"Miscellaneous Receipts\"] * inflation['Dollar value vs 1969 dollars'])\n",
        "\n",
        "ind = np.arange(N)    # the x locations for the groups\n",
        "width = 0.8      # the width of the bars: can also be len(x) sequence\n",
        "\n",
        "p1 = plt.bar(income['Year'], Individual, width, color='#0CF574', \n",
        "             bottom=Payroll)\n",
        "p2 = plt.bar(income['Year'], Payroll, width, color='#2F97C1',\n",
        "             bottom=Corperate)\n",
        "p3 = plt.bar(income['Year'], Corperate, width, color='#1CCAD8',\n",
        "             bottom=Excise)\n",
        "p4 = plt.bar(income['Year'], Excise, width, color='#15E6CD',\n",
        "             bottom=Estate)\n",
        "p5 = plt.bar(income['Year'], Estate, width, color='#587291',\n",
        "             bottom=Customs)\n",
        "p6 = plt.bar(income['Year'], Customs, width, color='#37FF8B',\n",
        "             bottom=Misc)\n",
        "p7 = plt.bar(income['Year'], Misc, width, color='#AD5C1D')\n",
        "\n",
        "ax = plt.gca()\n",
        "ax.grid(b=True, which='major', axis='y', color='black', alpha=.2)\n",
        "ax.set_facecolor('white')\n",
        "plt.ylabel('Billions of 1969 Dollars', fontweight='bold', fontsize='large')\n",
        "plt.title('US Congressional Revenue', fontweight='bold', fontsize='large')\n",
        "plt.xticks(income['Year'], rotation=50,horizontalalignment='right',rotation_mode='anchor')\n",
        "plt.yticks(np.arange(0, 450, 50))\n",
        "plt.legend((p1[0], p2[0], p3[0], p4[0], p5[0], p6[0], p7[0]), ('Individual Taxes',\n",
        "                                                               'Payroll Taxes',\n",
        "                                                               'Corperate Taxes',\n",
        "                                                               'Excise Taxes',\n",
        "                                                               'Estate and Gift Tax',\n",
        "                                                               'Customs Duties',\n",
        "                                                               'Misc',\n",
        "                                                            ))\n",
        "\n",
        "plt.show()"
      ],
      "execution_count": 21,
      "outputs": [
        {
          "output_type": "display_data",
          "data": {
            "image/png": "[encoded data removed]",
            "text/plain": [
              "<Figure size 1368x720 with 1 Axes>"
            ]
          },
          "metadata": {
            "tags": []
          }
        }
      ]
    },
    {
      "metadata": {
        "id": "GtMkVh3scI1q",
        "colab_type": "text"
      },
      "cell_type": "markdown",
      "source": [
        "The 9/11 attacks and the 08-09 financial crisis can be seen as two sudden falls in latter portion chart"
      ]
    },
    {
      "metadata": {
        "id": "6Otsh_qd7UFP",
        "colab_type": "code",
        "outputId": "364be860-5c50-4478-aff2-bfb1f744d879",
        "colab": {
          "base_uri": "https://localhost:8080/",
          "height": 609
        }
      },
      "cell_type": "code",
      "source": [
        "Individual = norm_income['Individual Income Taxes']\n",
        "Payroll = norm_income['Payroll Taxes']\n",
        "Corperate = norm_income[\"Corporate Income Taxes\"]\n",
        "Excise = norm_income[\"Excise Taxes\"]\n",
        "Estate = norm_income[\"Estate and Gift Taxes\"]\n",
        "Customs = norm_income[\"Customs Duties\"] \n",
        "Misc = norm_income[\"Miscellaneous Receipts\"]\n",
        "\n",
        "\n",
        "first = (Individual[0], Payroll[0], Corperate[0], Excise[0], Estate[0], Customs[0], Misc[0])\n",
        "second = (Individual[49], Payroll[49], Corperate[49], Excise[49], Estate[49], Customs[49], Misc[49])\n",
        "\n",
        "ind = np.arange(len(first))  # the x locations for the groups\n",
        "width = 0.4  # the width of the bars\n",
        "\n",
        "fig, ax = plt.subplots()\n",
        "rects1 = ax.bar(ind - width/2, first, width,\n",
        "                color='#0CF574', label='1969')\n",
        "rects2 = ax.bar(ind + width/2, second, width,\n",
        "                color='#1CCAD8', label='2018')\n",
        "\n",
        "ax = plt.gca()\n",
        "ax.grid(b=True, which='major', axis='y', color='black', alpha=.2)\n",
        "ax.set_facecolor('white')\n",
        "ax.set_ylabel('Percent of Total Revenue', fontweight='bold', fontsize='large')\n",
        "ax.set_title('Congressional Revenue Streams: 1969 & 2018 Compared', fontweight='bold', fontsize='large')\n",
        "ax.set_xticks(ind)\n",
        "ax.set_xticklabels(('Individual Taxes', 'Payroll Taxes', 'Corperate Income Taxes', 'Excise Taxes', 'Estate & Gift Taxes', 'Customs Duties', 'Misc.'))\n",
        "ax.legend(loc=7, fontsize='large')\n",
        "ax.set_yticklabels(('0', '10%', '20%', '30%', '40%', '50%'))\n",
        "plt.show();"
      ],
      "execution_count": 22,
      "outputs": [
        {
          "output_type": "display_data",
          "data": {
            "image/png": "[encoded data removed]",
            "text/plain": [
              "<Figure size 1368x720 with 1 Axes>"
            ]
          },
          "metadata": {
            "tags": []
          }
        }
      ]
    },
    {
      "metadata": {
        "id": "9F4QINNecZm9",
        "colab_type": "text"
      },
      "cell_type": "markdown",
      "source": [
        "Here we can see the relative changes in which revenue streams account for what percentage of Congressional revenue in both 1969 and 2018"
      ]
    },
    {
      "metadata": {
        "id": "Gp370KZpdB_N",
        "colab_type": "text"
      },
      "cell_type": "markdown",
      "source": [
        "\n",
        "\n",
        "---\n",
        "\n"
      ]
    },
    {
      "metadata": {
        "id": "I1udZb5NioNU",
        "colab_type": "text"
      },
      "cell_type": "markdown",
      "source": [
        "**Plot Mandatory Spending**"
      ]
    },
    {
      "metadata": {
        "id": "03VEUfsXiqmQ",
        "colab_type": "code",
        "outputId": "b34b2d41-544e-40e0-a6b4-7c1d9a615b38",
        "colab": {
          "base_uri": "https://localhost:8080/",
          "height": 622
        }
      },
      "cell_type": "code",
      "source": [
        "N = 49\n",
        "Ss = (mand_spend['Social Security'] * inflation['Dollar value vs 1969 dollars'])\n",
        "Medcare_and_medicaid = (mand_spend['Medicare and Medicaid'] * inflation['Dollar value vs 1969 dollars'])\n",
        "IncSec = (mand_spend[\"Income Security\"] * inflation['Dollar value vs 1969 dollars'])\n",
        "ret = (mand_spend[\"Federal Civilian and Military Retirement\"] * inflation['Dollar value vs 1969 dollars'])\n",
        "vet = (mand_spend[\"Veterans' Programs\"] * inflation['Dollar value vs 1969 dollars'])\n",
        "oth = (mand_spend[\"Other Programs Total\"] * inflation['Dollar value vs 1969 dollars'])\n",
        "\n",
        "ind = np.arange(N)    # the x locations for the groups\n",
        "width = 0.9   # the width of the bars: can also be len(x) sequence\n",
        "\n",
        "p1 = plt.plot(income['Year'], Ss, color='#0CF574', label='Social Security',\n",
        "              linestyle=':', marker='o', markersize=5)\n",
        "\n",
        "p2 = plt.plot(income['Year'], Medcare_and_medicaid, color='#2F97C1', label='Medicare and Medicaid',\n",
        "              linestyle=':', marker='o', markersize=5)\n",
        "\n",
        "p3 = plt.bar(income['Year'], IncSec, width, color='#15E6CD',\n",
        "             bottom=ret, label = 'Income Security')\n",
        "\n",
        "p4 = plt.bar(income['Year'], ret, width, color='#587291',\n",
        "             bottom=vet, label='Fed, Mil, and Civil Retirement')\n",
        "\n",
        "p5 = plt.bar(income['Year'], vet, width, color='#37FF8B',\n",
        "             bottom=oth, label='Veterans Programs')\n",
        "\n",
        "p6 = plt.bar(income['Year'], oth, width, color='#AD5C1D', label = 'Other Programs',\n",
        "            bottom=0)\n",
        "\n",
        "\n",
        "plt.text(2011, 94, s='Troubled Asset Relief Program (TARP)', alpha=.9)\n",
        "plt.arrow(2011, 94, -2, -44, alpha=.8)\n",
        "ax = plt.gca()\n",
        "ax.grid(b=True, which='major', axis='y', color='black', alpha=.2)\n",
        "ax.set_facecolor('white')\n",
        "plt.ylabel('Billions of 1969 Dollars', fontweight='bold', fontsize='large')\n",
        "plt.title('US Mandatory Spending', fontweight='bold', fontsize='large')\n",
        "plt.xticks(income['Year'], rotation=50,horizontalalignment='right',rotation_mode='anchor')\n",
        "plt.yticks(np.arange(0, 150, 10))\n",
        "plt.legend(loc=6)\n",
        "\n",
        "plt.show()"
      ],
      "execution_count": 23,
      "outputs": [
        {
          "output_type": "display_data",
          "data": {
            "image/png": "[encoded data removed]",
            "text/plain": [
              "<Figure size 1368x720 with 1 Axes>"
            ]
          },
          "metadata": {
            "tags": []
          }
        }
      ]
    },
    {
      "metadata": {
        "id": "3XvLoeKMbPnJ",
        "colab_type": "text"
      },
      "cell_type": "markdown",
      "source": [
        "The large spike in 'Other Programs' in 2009 is the Troubled Asset Relief Program.\n",
        "Post crisis unemployment hit its highest point in 2010. This can be seen as a spike in 'Income Security' spending.\n",
        "Medicare and Medicaid spending eclipsed spcial security spending for the first time in 2005"
      ]
    },
    {
      "metadata": {
        "id": "DPmMH-9Kiqt6",
        "colab_type": "text"
      },
      "cell_type": "markdown",
      "source": [
        "\n",
        "\n",
        "---\n",
        "\n"
      ]
    },
    {
      "metadata": {
        "id": "BjQ8xlt96RwR",
        "colab_type": "text"
      },
      "cell_type": "markdown",
      "source": [
        "**Plot Discretionary Spending**"
      ]
    },
    {
      "metadata": {
        "id": "Xx35HVeq-CcI",
        "colab_type": "code",
        "outputId": "25a9a629-fbc8-43b3-b2ac-2f6434371878",
        "colab": {
          "base_uri": "https://localhost:8080/",
          "height": 622
        }
      },
      "cell_type": "code",
      "source": [
        "N = 49\n",
        "Defense = (dis_spend['Defense'] * inflation['Dollar value vs 1969 dollars'])\n",
        "Nondefense = (dis_spend['Nondefense'] * inflation['Dollar value vs 1969 dollars'])\n",
        "\n",
        "\n",
        "ind = np.arange(N)    # the x locations for the groups\n",
        "width = 0.8      # the width of the bars: can also be len(x) sequence\n",
        "\n",
        "p1 = plt.bar(dis_spend['Year'], Defense, width, color='#1CCAD8')\n",
        "\n",
        "p2 = plt.bar(dis_spend['Year'], Nondefense, width, alpha=.5, color ='#37FF8B')\n",
        "\n",
        "plt.xticks(income['Year'], rotation=50,horizontalalignment='right',rotation_mode='anchor')\n",
        "plt.yticks(np.arange(0, 150, 10))\n",
        "plt.legend((p1[0], p2[0]), ('Defense Spending',\n",
        "                             'Nondefense Spending',\n",
        "                          ))\n",
        "\n",
        "ax = plt.gca()\n",
        "ax.grid(b=True, which='major', axis='y', color='black', alpha=.2)\n",
        "ax.set_facecolor('white')\n",
        "plt.ylabel('Billions of 1969 Dollars', fontweight='bold', fontsize='large')\n",
        "plt.title('US Discretionary Spending', fontweight='bold', fontsize='large')\n",
        "\n",
        "plt.show()\n",
        "plt.show()"
      ],
      "execution_count": 24,
      "outputs": [
        {
          "output_type": "display_data",
          "data": {
            "image/png": "[encoded data removed]",
            "text/plain": [
              "<Figure size 1368x720 with 1 Axes>"
            ]
          },
          "metadata": {
            "tags": []
          }
        }
      ]
    },
    {
      "metadata": {
        "id": "EU083MPjc5uh",
        "colab_type": "text"
      },
      "cell_type": "markdown",
      "source": [
        "At the begining of the chart we can see the effects of the deescliation in vietnam, the second blue hill represents the Reagan era military buildup "
      ]
    },
    {
      "metadata": {
        "id": "hEHKttpR6Slg",
        "colab_type": "text"
      },
      "cell_type": "markdown",
      "source": [
        "\n",
        "\n",
        "---\n",
        "\n"
      ]
    },
    {
      "metadata": {
        "id": "4VqWSrq1bKZY",
        "colab_type": "text"
      },
      "cell_type": "markdown",
      "source": [
        "**Plot Mand vs Disc Spending**"
      ]
    },
    {
      "metadata": {
        "id": "z0jUY40zbKhZ",
        "colab_type": "code",
        "outputId": "ee9bae63-9b85-44d2-aae8-e9aab027e7e4",
        "colab": {
          "base_uri": "https://localhost:8080/",
          "height": 619
        }
      },
      "cell_type": "code",
      "source": [
        "N = 49\n",
        "mand = (mand_spend['Total'] * inflation['Dollar value vs 1969 dollars'])\n",
        "dis = (dis_spend['Total Discretionary'].astype(float) * inflation['Dollar value vs 1969 dollars'].astype(float))\n",
        "\n",
        "ind = np.arange(N)    # the x locations for the groups\n",
        "width = 0.8      # the width of the bars: can also be len(x) sequence\n",
        "\n",
        "p1 = plt.bar(income['Year'], mand, width, color='#37FF8B')\n",
        "\n",
        "p2 = plt.bar(income['Year'], dis, width, alpha=.6, color ='#AD5C1D')\n",
        "\n",
        "plt.ylabel('$ (Billions of 1969 Dollars)')\n",
        "plt.title('US Congressional Spending')\n",
        "plt.xticks(income['Year'], rotation=90)\n",
        "plt.yticks(np.arange(0, 500, 50))\n",
        "plt.legend((p1[0], p2[0]), ('Mandatory Spending',\n",
        "                             'Discrationary Spending',\n",
        "                          ))\n",
        "ax = plt.gca()\n",
        "ax.grid(b=True, which='major', axis='y', color='black', alpha=.2)\n",
        "ax.set_facecolor('white')\n",
        "plt.show()"
      ],
      "execution_count": 25,
      "outputs": [
        {
          "output_type": "display_data",
          "data": {
            "image/png": "[encoded data removed]",
            "text/plain": [
              "<Figure size 1368x720 with 1 Axes>"
            ]
          },
          "metadata": {
            "tags": []
          }
        }
      ]
    },
    {
      "metadata": {
        "id": "aCuSPcEqh72E",
        "colab_type": "text"
      },
      "cell_type": "markdown",
      "source": [
        "Here we can see tha aggressive rise in Mandatory spending as opposed to discresionary"
      ]
    },
    {
      "metadata": {
        "id": "8zceujBOmovm",
        "colab_type": "code",
        "outputId": "b6421ed2-663b-4281-e82f-914c31ce2845",
        "colab": {
          "base_uri": "https://localhost:8080/",
          "height": 632
        }
      },
      "cell_type": "code",
      "source": [
        "N = 49\n",
        "mand = (mand_spend['Total'] * inflation['Dollar value vs 1969 dollars'])\n",
        "dis = (dis_spend['Total Discretionary'].astype(float) * inflation['Dollar value vs 1969 dollars'].astype(float))\n",
        "rev = income['Total Revenue'] * inflation['Dollar value vs 1969 dollars']\n",
        "\n",
        "ind = np.arange(N)    # the x locations for the groups\n",
        "width = 0.8      # the width of the bars: can also be len(x) sequence\n",
        "\n",
        "p1 = plt.bar(income['Year'], mand, width, color='#CCE6F4'\n",
        "             ,bottom=dis, label='Mandatory Spending', antialiased=True)\n",
        "\n",
        "p2 = plt.bar(income['Year'], dis, width, alpha=1, color ='#FF101F', label='Discretionary Spending', antialiased=True)\n",
        "\n",
        "p3 = plt.plot(income['Year'], rev, color='#175676', label='Congressional Revenue', linestyle=':', marker='o', markersize=3, antialiased=True)\n",
        "\n",
        "plt.text(1965, 610, 'US Congressional Spending', fontweight='bold', fontsize='large')\n",
        "plt.text(1965, 590, 'Mandatory and Discretionary Spending V. Revenue - Represented in Billions of 1969 Dollars', fontweight='medium', fontsize='large')\n",
        "plt.xticks(income['Year'], rotation=50, horizontalalignment='right', rotation_mode='anchor', color='gray')\n",
        "plt.yticks(np.arange(0, 600, 100), color='gray')\n",
        "plt.legend(loc=6, bbox_to_anchor=(.1, .48, .5, .5))\n",
        "ax = plt.gca()\n",
        "ax.grid(b=True, which='major', axis='y', color='black', alpha=.2)\n",
        "ax.set_facecolor('white')\n",
        "plt.show()"
      ],
      "execution_count": 86,
      "outputs": [
        {
          "output_type": "display_data",
          "data": {
            "image/png": "[encoded data removed]",
            "text/plain": [
              "<Figure size 1368x720 with 1 Axes>"
            ]
          },
          "metadata": {
            "tags": []
          }
        }
      ]
    },
    {
      "metadata": {
        "id": "Zuv6HKIKiGat",
        "colab_type": "text"
      },
      "cell_type": "markdown",
      "source": [
        "when the stacked bars of mandatory spending rise above the purple line representing congressional revenue this constitutes a budget deficit"
      ]
    },
    {
      "metadata": {
        "id": "_bONkbZDCW_6",
        "colab_type": "text"
      },
      "cell_type": "markdown",
      "source": [
        "**Congressional Budget Surplus/Deficit**"
      ]
    },
    {
      "metadata": {
        "id": "J5MkTFvECk-6",
        "colab_type": "code",
        "colab": {}
      },
      "cell_type": "code",
      "source": [
        "Surplus = []\n",
        "Deficit = []\n",
        "income_ = income['Total Revenue'] * inflation['Dollar value vs 1969 dollars']\n",
        "total_mand = mand_spend['Total'] * inflation['Dollar value vs 1969 dollars']\n",
        "total_dis = dis_spend['Total Discretionary'] * inflation['Dollar value vs 1969 dollars']\n",
        "difference = income_ - (total_mand + total_dis)\n",
        "\n",
        "for i in (difference):\n",
        "  if i >=0:\n",
        "    Surplus.append(i)\n",
        "  else:\n",
        "    Surplus.append(0)\n",
        "    \n",
        "    \n",
        "for i in (difference):\n",
        "  if i < 0:\n",
        "    Deficit.append(i)\n",
        "  else:\n",
        "    Deficit.append(0)"
      ],
      "execution_count": 0,
      "outputs": []
    },
    {
      "metadata": {
        "id": "OcCLo7PrCV9k",
        "colab_type": "code",
        "outputId": "296d7ab7-0ce1-41d4-82f5-2e65dedc569c",
        "colab": {
          "base_uri": "https://localhost:8080/",
          "height": 619
        }
      },
      "cell_type": "code",
      "source": [
        "# 49 is the number of years I have \n",
        "N = 49\n",
        "\n",
        "# the x locations for the groups\n",
        "ind = np.arange(N)\n",
        "# the width of the bars: can also be len(x) sequence\n",
        "width = 0.8      \n",
        "\n",
        "# Bars for surplus\n",
        "p1 = plt.bar(income['Year'], Surplus, width, color='#00FF0D')\n",
        "\n",
        "# Bars for deficit\n",
        "p2 = plt.bar(income['Year'], Deficit, width, color ='#FF0000')\n",
        "\n",
        "plt.ylabel('Surplus/Deficit (Billions of Dollars)')\n",
        "plt.title('US Congressional Budget Surplus/Deficit')\n",
        "plt.xticks(income['Year'], rotation=90)\n",
        "plt.yticks(np.arange(-200, 200, 25))\n",
        "\n",
        "ax = plt.gca()\n",
        "ax.grid(b=True, which='major', axis='y', color='black', alpha=.2)\n",
        "ax.set_facecolor('white')\n",
        "plt.show()"
      ],
      "execution_count": 28,
      "outputs": [
        {
          "output_type": "display_data",
          "data": {
            "image/png": "[encoded data removed]",
            "text/plain": [
              "<Figure size 1368x720 with 1 Axes>"
            ]
          },
          "metadata": {
            "tags": []
          }
        }
      ]
    },
    {
      "metadata": {
        "id": "V3OFWR2_jBBI",
        "colab_type": "text"
      },
      "cell_type": "markdown",
      "source": [
        "Here we can see the deficit vs surplus years with the large deficit twards th end representing the extra mandatory spending caused by the financial crisis "
      ]
    },
    {
      "metadata": {
        "id": "y22L_GsfkJow",
        "colab_type": "code",
        "outputId": "dd79072b-ab96-40f3-84a1-158463d2c092",
        "colab": {
          "base_uri": "https://localhost:8080/",
          "height": 97
        }
      },
      "cell_type": "code",
      "source": [
        "norm_income.head(1) / 3.1418"
      ],
      "execution_count": 29,
      "outputs": [
        {
          "output_type": "execute_result",
          "data": {
            "text/html": [
              "<div>\n",
              "<style scoped>\n",
              "    .dataframe tbody tr th:only-of-type {\n",
              "        vertical-align: middle;\n",
              "    }\n",
              "\n",
              "    .dataframe tbody tr th {\n",
              "        vertical-align: top;\n",
              "    }\n",
              "\n",
              "    .dataframe thead th {\n",
              "        text-align: right;\n",
              "    }\n",
              "</style>\n",
              "<table border=\"1\" class=\"dataframe\">\n",
              "  <thead>\n",
              "    <tr style=\"text-align: right;\">\n",
              "      <th></th>\n",
              "      <th>Year</th>\n",
              "      <th>Individual Income Taxes</th>\n",
              "      <th>Payroll Taxes</th>\n",
              "      <th>Corporate Income Taxes</th>\n",
              "      <th>Excise Taxes</th>\n",
              "      <th>Estate and Gift Taxes</th>\n",
              "      <th>Customs Duties</th>\n",
              "      <th>Miscellaneous Receipts</th>\n",
              "      <th>Total Revenue</th>\n",
              "    </tr>\n",
              "  </thead>\n",
              "  <tbody>\n",
              "    <tr>\n",
              "      <th>0</th>\n",
              "      <td>626.710803</td>\n",
              "      <td>0.148501</td>\n",
              "      <td>0.066417</td>\n",
              "      <td>0.0625</td>\n",
              "      <td>0.025885</td>\n",
              "      <td>0.00596</td>\n",
              "      <td>0.003917</td>\n",
              "      <td>0.004939</td>\n",
              "      <td>59.488191</td>\n",
              "    </tr>\n",
              "  </tbody>\n",
              "</table>\n",
              "</div>"
            ],
            "text/plain": [
              "         Year  Individual Income Taxes  Payroll Taxes  Corporate Income Taxes  \\\n",
              "0  626.710803                 0.148501       0.066417                  0.0625   \n",
              "\n",
              "   Excise Taxes  Estate and Gift Taxes  Customs Duties  \\\n",
              "0      0.025885                0.00596        0.003917   \n",
              "\n",
              "   Miscellaneous Receipts  Total Revenue  \n",
              "0                0.004939      59.488191  "
            ]
          },
          "metadata": {
            "tags": []
          },
          "execution_count": 29
        }
      ]
    },
    {
      "metadata": {
        "id": "5fZsOinvnnSo",
        "colab_type": "code",
        "outputId": "54651c58-7ff7-4b3b-a52d-1be70c2c5112",
        "colab": {
          "base_uri": "https://localhost:8080/",
          "height": 97
        }
      },
      "cell_type": "code",
      "source": [
        "norm_income.tail(1) / 3.1418"
      ],
      "execution_count": 30,
      "outputs": [
        {
          "output_type": "execute_result",
          "data": {
            "text/html": [
              "<div>\n",
              "<style scoped>\n",
              "    .dataframe tbody tr th:only-of-type {\n",
              "        vertical-align: middle;\n",
              "    }\n",
              "\n",
              "    .dataframe tbody tr th {\n",
              "        vertical-align: top;\n",
              "    }\n",
              "\n",
              "    .dataframe thead th {\n",
              "        text-align: right;\n",
              "    }\n",
              "</style>\n",
              "<table border=\"1\" class=\"dataframe\">\n",
              "  <thead>\n",
              "    <tr style=\"text-align: right;\">\n",
              "      <th></th>\n",
              "      <th>Year</th>\n",
              "      <th>Individual Income Taxes</th>\n",
              "      <th>Payroll Taxes</th>\n",
              "      <th>Corporate Income Taxes</th>\n",
              "      <th>Excise Taxes</th>\n",
              "      <th>Estate and Gift Taxes</th>\n",
              "      <th>Customs Duties</th>\n",
              "      <th>Miscellaneous Receipts</th>\n",
              "      <th>Total Revenue</th>\n",
              "    </tr>\n",
              "  </thead>\n",
              "  <tbody>\n",
              "    <tr>\n",
              "      <th>49</th>\n",
              "      <td>642.306958</td>\n",
              "      <td>0.160976</td>\n",
              "      <td>0.111942</td>\n",
              "      <td>0.019573</td>\n",
              "      <td>0.009084</td>\n",
              "      <td>0.002199</td>\n",
              "      <td>0.003949</td>\n",
              "      <td>0.010566</td>\n",
              "      <td>1059.488191</td>\n",
              "    </tr>\n",
              "  </tbody>\n",
              "</table>\n",
              "</div>"
            ],
            "text/plain": [
              "          Year  Individual Income Taxes  Payroll Taxes  \\\n",
              "49  642.306958                 0.160976       0.111942   \n",
              "\n",
              "    Corporate Income Taxes  Excise Taxes  Estate and Gift Taxes  \\\n",
              "49                0.019573      0.009084               0.002199   \n",
              "\n",
              "    Customs Duties  Miscellaneous Receipts  Total Revenue  \n",
              "49        0.003949                0.010566    1059.488191  "
            ]
          },
          "metadata": {
            "tags": []
          },
          "execution_count": 30
        }
      ]
    },
    {
      "metadata": {
        "id": "c4dIgjMkmPHE",
        "colab_type": "code",
        "outputId": "fa442d11-0d2a-49b5-a752-13e4fb091460",
        "colab": {
          "base_uri": "https://localhost:8080/",
          "height": 97
        }
      },
      "cell_type": "code",
      "source": [
        "normalized_mand_spending.head(1) / 3.1418"
      ],
      "execution_count": 31,
      "outputs": [
        {
          "output_type": "execute_result",
          "data": {
            "text/html": [
              "<div>\n",
              "<style scoped>\n",
              "    .dataframe tbody tr th:only-of-type {\n",
              "        vertical-align: middle;\n",
              "    }\n",
              "\n",
              "    .dataframe tbody tr th {\n",
              "        vertical-align: top;\n",
              "    }\n",
              "\n",
              "    .dataframe thead th {\n",
              "        text-align: right;\n",
              "    }\n",
              "</style>\n",
              "<table border=\"1\" class=\"dataframe\">\n",
              "  <thead>\n",
              "    <tr style=\"text-align: right;\">\n",
              "      <th></th>\n",
              "      <th>Year</th>\n",
              "      <th>Social Security</th>\n",
              "      <th>Medicare and Medicaid</th>\n",
              "      <th>Income Security</th>\n",
              "      <th>Federal Civilian and Military Retirement</th>\n",
              "      <th>Veterans' Programs</th>\n",
              "      <th>Other Programs Total</th>\n",
              "      <th>Total</th>\n",
              "    </tr>\n",
              "  </thead>\n",
              "  <tbody>\n",
              "    <tr>\n",
              "      <th>0</th>\n",
              "      <td>626.710803</td>\n",
              "      <td>0.131492</td>\n",
              "      <td>0.042304</td>\n",
              "      <td>0.032011</td>\n",
              "      <td>0.031519</td>\n",
              "      <td>0.030386</td>\n",
              "      <td>0.050578</td>\n",
              "      <td>20.57101</td>\n",
              "    </tr>\n",
              "  </tbody>\n",
              "</table>\n",
              "</div>"
            ],
            "text/plain": [
              "         Year  Social Security  Medicare and Medicaid  Income Security  \\\n",
              "0  626.710803         0.131492               0.042304         0.032011   \n",
              "\n",
              "   Federal Civilian and Military Retirement  Veterans' Programs  \\\n",
              "0                                  0.031519            0.030386   \n",
              "\n",
              "   Other Programs Total     Total  \n",
              "0              0.050578  20.57101  "
            ]
          },
          "metadata": {
            "tags": []
          },
          "execution_count": 31
        }
      ]
    },
    {
      "metadata": {
        "id": "-O-uUoiznqUS",
        "colab_type": "code",
        "outputId": "089cc7b9-0f0d-4922-ccbc-ed6a04503ec9",
        "colab": {
          "base_uri": "https://localhost:8080/",
          "height": 97
        }
      },
      "cell_type": "code",
      "source": [
        "normalized_mand_spending.tail(1) / 3.1418"
      ],
      "execution_count": 32,
      "outputs": [
        {
          "output_type": "execute_result",
          "data": {
            "text/html": [
              "<div>\n",
              "<style scoped>\n",
              "    .dataframe tbody tr th:only-of-type {\n",
              "        vertical-align: middle;\n",
              "    }\n",
              "\n",
              "    .dataframe tbody tr th {\n",
              "        vertical-align: top;\n",
              "    }\n",
              "\n",
              "    .dataframe thead th {\n",
              "        text-align: right;\n",
              "    }\n",
              "</style>\n",
              "<table border=\"1\" class=\"dataframe\">\n",
              "  <thead>\n",
              "    <tr style=\"text-align: right;\">\n",
              "      <th></th>\n",
              "      <th>Year</th>\n",
              "      <th>Social Security</th>\n",
              "      <th>Medicare and Medicaid</th>\n",
              "      <th>Income Security</th>\n",
              "      <th>Federal Civilian and Military Retirement</th>\n",
              "      <th>Veterans' Programs</th>\n",
              "      <th>Other Programs Total</th>\n",
              "      <th>Total</th>\n",
              "    </tr>\n",
              "  </thead>\n",
              "  <tbody>\n",
              "    <tr>\n",
              "      <th>49</th>\n",
              "      <td>642.306958</td>\n",
              "      <td>0.112512</td>\n",
              "      <td>0.125256</td>\n",
              "      <td>0.032683</td>\n",
              "      <td>0.018684</td>\n",
              "      <td>0.011606</td>\n",
              "      <td>0.017548</td>\n",
              "      <td>884.429308</td>\n",
              "    </tr>\n",
              "  </tbody>\n",
              "</table>\n",
              "</div>"
            ],
            "text/plain": [
              "          Year  Social Security  Medicare and Medicaid  Income Security  \\\n",
              "49  642.306958         0.112512               0.125256         0.032683   \n",
              "\n",
              "    Federal Civilian and Military Retirement  Veterans' Programs  \\\n",
              "49                                  0.018684            0.011606   \n",
              "\n",
              "    Other Programs Total       Total  \n",
              "49              0.017548  884.429308  "
            ]
          },
          "metadata": {
            "tags": []
          },
          "execution_count": 32
        }
      ]
    },
    {
      "metadata": {
        "id": "XBrEF4femYqX",
        "colab_type": "code",
        "outputId": "cfb1bdca-d128-427a-b0b9-3d6c1d923eb3",
        "colab": {
          "base_uri": "https://localhost:8080/",
          "height": 80
        }
      },
      "cell_type": "code",
      "source": [
        "normalized_dis_spending.head(1) / 3.1418"
      ],
      "execution_count": 33,
      "outputs": [
        {
          "output_type": "execute_result",
          "data": {
            "text/html": [
              "<div>\n",
              "<style scoped>\n",
              "    .dataframe tbody tr th:only-of-type {\n",
              "        vertical-align: middle;\n",
              "    }\n",
              "\n",
              "    .dataframe tbody tr th {\n",
              "        vertical-align: top;\n",
              "    }\n",
              "\n",
              "    .dataframe thead th {\n",
              "        text-align: right;\n",
              "    }\n",
              "</style>\n",
              "<table border=\"1\" class=\"dataframe\">\n",
              "  <thead>\n",
              "    <tr style=\"text-align: right;\">\n",
              "      <th></th>\n",
              "      <th>Year</th>\n",
              "      <th>Defense</th>\n",
              "      <th>Nondefense</th>\n",
              "      <th>Total Discretionary</th>\n",
              "    </tr>\n",
              "  </thead>\n",
              "  <tbody>\n",
              "    <tr>\n",
              "      <th>0</th>\n",
              "      <td>626.710803</td>\n",
              "      <td>0.224403</td>\n",
              "      <td>0.093886</td>\n",
              "      <td>37.335286</td>\n",
              "    </tr>\n",
              "  </tbody>\n",
              "</table>\n",
              "</div>"
            ],
            "text/plain": [
              "         Year   Defense  Nondefense  Total Discretionary\n",
              "0  626.710803  0.224403    0.093886            37.335286"
            ]
          },
          "metadata": {
            "tags": []
          },
          "execution_count": 33
        }
      ]
    },
    {
      "metadata": {
        "id": "0kp4tRQSnsV7",
        "colab_type": "code",
        "outputId": "8045a659-ffd3-4438-9485-8caa6ee855cf",
        "colab": {
          "base_uri": "https://localhost:8080/",
          "height": 80
        }
      },
      "cell_type": "code",
      "source": [
        "normalized_dis_spending.tail(1) / 3.1418"
      ],
      "execution_count": 34,
      "outputs": [
        {
          "output_type": "execute_result",
          "data": {
            "text/html": [
              "<div>\n",
              "<style scoped>\n",
              "    .dataframe tbody tr th:only-of-type {\n",
              "        vertical-align: middle;\n",
              "    }\n",
              "\n",
              "    .dataframe tbody tr th {\n",
              "        vertical-align: top;\n",
              "    }\n",
              "\n",
              "    .dataframe thead th {\n",
              "        text-align: right;\n",
              "    }\n",
              "</style>\n",
              "<table border=\"1\" class=\"dataframe\">\n",
              "  <thead>\n",
              "    <tr style=\"text-align: right;\">\n",
              "      <th></th>\n",
              "      <th>Year</th>\n",
              "      <th>Defense</th>\n",
              "      <th>Nondefense</th>\n",
              "      <th>Total Discretionary</th>\n",
              "    </tr>\n",
              "  </thead>\n",
              "  <tbody>\n",
              "    <tr>\n",
              "      <th>49</th>\n",
              "      <td>642.306958</td>\n",
              "      <td>0.156625</td>\n",
              "      <td>0.161664</td>\n",
              "      <td>402.12617</td>\n",
              "    </tr>\n",
              "  </tbody>\n",
              "</table>\n",
              "</div>"
            ],
            "text/plain": [
              "          Year   Defense  Nondefense  Total Discretionary\n",
              "49  642.306958  0.156625    0.161664            402.12617"
            ]
          },
          "metadata": {
            "tags": []
          },
          "execution_count": 34
        }
      ]
    },
    {
      "metadata": {
        "id": "yKni5NzNmkU5",
        "colab_type": "code",
        "outputId": "5490a1f8-d5f8-41d7-deef-6c650a9f26f6",
        "colab": {
          "base_uri": "https://localhost:8080/",
          "height": 34
        }
      },
      "cell_type": "code",
      "source": [
        "print((dis_spend['Total Discretionary'][0] / income['Total Revenue'][0]) / 3.1418,\n",
        "(mand_spend['Total'][0] / income['Total Revenue'][0]) / 3.1418,\n",
        "income['Total Revenue'][0])"
      ],
      "execution_count": 35,
      "outputs": [
        {
          "output_type": "stream",
          "text": [
            "0.19976075711677074 0.11006426029375015 186.9\n"
          ],
          "name": "stdout"
        }
      ]
    },
    {
      "metadata": {
        "id": "pApS1h2Bni6M",
        "colab_type": "code",
        "outputId": "39ec28bd-2a14-4bb3-ee6e-3f3db5ec5993",
        "colab": {
          "base_uri": "https://localhost:8080/",
          "height": 34
        }
      },
      "cell_type": "code",
      "source": [
        "print((dis_spend['Total Discretionary'][49] / income['Total Revenue'][49]) / 3.1418,\n",
        "(mand_spend['Total'][49] / income['Total Revenue'][49]) / 3.1418,\n",
        "income['Total Revenue'][49])"
      ],
      "execution_count": 36,
      "outputs": [
        {
          "output_type": "stream",
          "text": [
            "0.12080577093508887 0.26569811278876954 3328.7\n"
          ],
          "name": "stdout"
        }
      ]
    },
    {
      "metadata": {
        "id": "qxHlzAgQbKn2",
        "colab_type": "text"
      },
      "cell_type": "markdown",
      "source": [
        "\n",
        "\n",
        "---\n",
        "\n"
      ]
    },
    {
      "metadata": {
        "id": "f3DTbllHyzJV",
        "colab_type": "text"
      },
      "cell_type": "markdown",
      "source": [
        "# Data Aggrigation"
      ]
    },
    {
      "metadata": {
        "id": "0sKd043NxoHR",
        "colab_type": "text"
      },
      "cell_type": "markdown",
      "source": [
        "**Merge the dataframes**"
      ]
    },
    {
      "metadata": {
        "id": "7uy1hYGrxzYT",
        "colab_type": "text"
      },
      "cell_type": "markdown",
      "source": [
        "\n",
        "\n",
        "---\n",
        "\n"
      ]
    },
    {
      "metadata": {
        "id": "t3TpNBIWx7so",
        "colab_type": "text"
      },
      "cell_type": "markdown",
      "source": [
        "**Describe the dataframe**"
      ]
    },
    {
      "metadata": {
        "id": "mARH-G0Y6P_7",
        "colab_type": "text"
      },
      "cell_type": "markdown",
      "source": [
        ""
      ]
    },
    {
      "metadata": {
        "id": "0cQbcRMJx_Qs",
        "colab_type": "text"
      },
      "cell_type": "markdown",
      "source": [
        "\n",
        "\n",
        "---\n",
        "\n"
      ]
    }
  ]
}