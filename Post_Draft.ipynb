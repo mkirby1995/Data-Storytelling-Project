{
  "nbformat": 4,
  "nbformat_minor": 0,
  "metadata": {
    "colab": {
      "name": "Congressional Spending Draft.ipynb",
      "version": "0.3.2",
      "provenance": [],
      "include_colab_link": true
    },
    "kernelspec": {
      "name": "python3",
      "display_name": "Python 3"
    }
  },
  "cells": [
    {
      "cell_type": "markdown",
      "metadata": {
        "id": "view-in-github",
        "colab_type": "text"
      },
      "source": [
        "<a href=\"https://colab.research.google.com/github/mkirby1995/Data-Storytelling-Project/blob/master/Post_Draft.ipynb\" target=\"_parent\"><img src=\"https://colab.research.google.com/assets/colab-badge.svg\" alt=\"Open In Colab\"/></a>"
      ]
    },
    {
      "metadata": {
        "id": "k3beLf1-VZKI",
        "colab_type": "text"
      },
      "cell_type": "markdown",
      "source": [
        "#Congressional Spending: From Nixon to Trump"
      ]
    },
    {
      "metadata": {
        "id": "-CqFRg3ZVZEw",
        "colab_type": "text"
      },
      "cell_type": "markdown",
      "source": [
        "We are bombarded with partisian information everyday reguarding how we should be taxed and how that money should be spent. This bombardment can make interepreting the facts and forming an independant opinion quite dificult for many people. Often his difficulty results from a lack of information. Congressional revenue and spending data is burried in a goverment website somewhere in the labyrinth that is the internet. In addition to the obscurity of the base data there are clear and present political motives for news media and politicians to make their presentation of this data as polarizing as possible. A non-partisian presentation of the relavent data could help people develop a more informed opinion when It comes to important issues that maybe arent the most exciting. Issues like tax policy."
      ]
    },
    {
      "metadata": {
        "id": "etkJS52Za1l1",
        "colab_type": "text"
      },
      "cell_type": "markdown",
      "source": [
        "Were going to start at the source and look at Congressional Revenue. Then we will dive into Congressional Spending. Finally we will present some intresting findings and attempt to intrepret our data."
      ]
    },
    {
      "metadata": {
        "id": "DJu9pHVxVZH6",
        "colab_type": "text"
      },
      "cell_type": "markdown",
      "source": [
        "\n",
        "\n",
        "---\n",
        "\n"
      ]
    },
    {
      "metadata": {
        "id": "WJchRxEPcvta",
        "colab_type": "text"
      },
      "cell_type": "markdown",
      "source": [
        "##**Congressional Revenue**"
      ]
    },
    {
      "metadata": {
        "id": "8CSQGjA0cyKO",
        "colab_type": "text"
      },
      "cell_type": "markdown",
      "source": [
        "Congressional revenue can be thought of as all the money coming into the Congressional budget. More formally; Article 1 Section 8 of the United States Constitution gives the United States Congres the power to '\"lay and collect Taxes, Duties, Imposts and Excises, to pay the Debts and provide for the common Defence and general Welfare of the United States\". In 1913 the 16th Ammendment extended congressional power of taxation to include individual income taxes. The Constitution also grants Congress the exclusive power to appropriate funds, and this power of the purse is one of Congress's primary checks on the executive branch."
      ]
    },
    {
      "metadata": {
        "id": "kQ-7d5nEd1dx",
        "colab_type": "text"
      },
      "cell_type": "markdown",
      "source": [
        "Income Tax"
      ]
    },
    {
      "metadata": {
        "id": "twyMepddd2pJ",
        "colab_type": "text"
      },
      "cell_type": "markdown",
      "source": [
        "Payroll Tax"
      ]
    },
    {
      "metadata": {
        "id": "T1NP30eld3hb",
        "colab_type": "text"
      },
      "cell_type": "markdown",
      "source": [
        "Corperate Tax"
      ]
    },
    {
      "metadata": {
        "id": "hDe7TUaieLvi",
        "colab_type": "text"
      },
      "cell_type": "markdown",
      "source": [
        "Excise Taxes"
      ]
    },
    {
      "metadata": {
        "id": "a2icOSC_d4xR",
        "colab_type": "text"
      },
      "cell_type": "markdown",
      "source": [
        "Estate and Gift Taxes"
      ]
    },
    {
      "metadata": {
        "id": "jUSsQuJHd6Nt",
        "colab_type": "text"
      },
      "cell_type": "markdown",
      "source": [
        "Customs Duties"
      ]
    },
    {
      "metadata": {
        "id": "nxJG9EVfeHEK",
        "colab_type": "text"
      },
      "cell_type": "markdown",
      "source": [
        "![Congressional Revenue by Year](https://github.com/mkirby1995/Data-Storytelling-Project/raw/master/images/Congressional%20Revenue%20By%20Year.png)"
      ]
    },
    {
      "metadata": {
        "id": "_r59OG2lhFN8",
        "colab_type": "text"
      },
      "cell_type": "markdown",
      "source": [
        "The 9/11 attacks and the 08-09 financial crisis can be seen as two sudden falls in latter portion chart"
      ]
    },
    {
      "metadata": {
        "id": "2FLN4tHZhMBe",
        "colab_type": "text"
      },
      "cell_type": "markdown",
      "source": [
        "![Congressional Revenue Streams](https://github.com/mkirby1995/Data-Storytelling-Project/raw/master/images/Revenue%20by%20Stream.png)"
      ]
    },
    {
      "metadata": {
        "id": "yfL8p0-WjTmP",
        "colab_type": "text"
      },
      "cell_type": "markdown",
      "source": [
        "Here we can see the relative changes in which revenue streams account for what percentage of Congressional revenue in both 1969 and 2018"
      ]
    },
    {
      "metadata": {
        "id": "sFTC_5DZcyXg",
        "colab_type": "text"
      },
      "cell_type": "markdown",
      "source": [
        "\n",
        "\n",
        "---\n",
        "\n"
      ]
    },
    {
      "metadata": {
        "id": "DwBHJyPwgz_M",
        "colab_type": "text"
      },
      "cell_type": "markdown",
      "source": [
        "##**Mandatory Spending**"
      ]
    },
    {
      "metadata": {
        "id": "BB35jeCQg9Tp",
        "colab_type": "text"
      },
      "cell_type": "markdown",
      "source": [
        ""
      ]
    },
    {
      "metadata": {
        "id": "hEsH2BP_g3PY",
        "colab_type": "text"
      },
      "cell_type": "markdown",
      "source": [
        "##**Discretionary Spending**"
      ]
    },
    {
      "metadata": {
        "id": "COPUlLH6g8Rt",
        "colab_type": "text"
      },
      "cell_type": "markdown",
      "source": [
        ""
      ]
    }
  ]
}